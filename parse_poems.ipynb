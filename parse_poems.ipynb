{
  "cells": [
    {
      "cell_type": "code",
      "execution_count": 1,
      "metadata": {
        "id": "-XOKHsVGpz3x"
      },
      "outputs": [],
      "source": [
        "import requests\n",
        "import pandas as pd\n",
        "from nltk.tokenize import sent_tokenize, word_tokenize\n",
        "from bs4 import BeautifulSoup"
      ]
    },
    {
      "cell_type": "code",
      "execution_count": 2,
      "metadata": {
        "id": "xOKIau2G8GRK"
      },
      "outputs": [
        {
          "name": "stderr",
          "output_type": "stream",
          "text": [
            "[nltk_data] Downloading package punkt to /Users/ksenia/nltk_data...\n",
            "[nltk_data]   Unzipping tokenizers/punkt.zip.\n"
          ]
        },
        {
          "data": {
            "text/plain": [
              "True"
            ]
          },
          "execution_count": 2,
          "metadata": {},
          "output_type": "execute_result"
        }
      ],
      "source": [
        "import nltk\n",
        "nltk.download('punkt')"
      ]
    },
    {
      "cell_type": "code",
      "execution_count": 3,
      "metadata": {
        "id": "Gn7Mb1FUp5k1"
      },
      "outputs": [],
      "source": [
        "session = requests.session()\n",
        "poets, titles, poems = [], [], []"
      ]
    },
    {
      "cell_type": "code",
      "execution_count": 4,
      "metadata": {
        "id": "yASyGPyOvpra"
      },
      "outputs": [],
      "source": [
        "def get_poem(poem_url):\n",
        "  poem_req = session.get(poem_url)\n",
        "  poem_page = poem_req.text\n",
        "  poem_soup = BeautifulSoup(poem_page)\n",
        "  poem = poem_soup.find('div', {'class': 'entry-content poem-text'}).text.split('(adsbygoogle')[0]\n",
        "  if len(poem.split()) >= 110:\n",
        "    return poem\n",
        "  return False"
      ]
    },
    {
      "cell_type": "code",
      "execution_count": 7,
      "metadata": {
        "id": "uddNlwfSwPVi"
      },
      "outputs": [],
      "source": [
        "def get_poet(poet_url):\n",
        "  poet_req = session.get(poet_url)\n",
        "  poet_page = poet_req.text\n",
        "  poet_soup = BeautifulSoup(poet_page)\n",
        "  all_poems = poet_soup.find_all('div', {'class': 'entry-title'})\n",
        "  global poets\n",
        "  global titles\n",
        "  global poems\n",
        "  for poem_url in all_poems:\n",
        "    poem = get_poem(poem_url.find('a', href=True)['href'])\n",
        "    if poem != False:\n",
        "      try:\n",
        "        poet, title = poem_url.text.strip().split(' — ')\n",
        "        poets.append(poet)\n",
        "        titles.append(title)\n",
        "        poems.append(poem)\n",
        "      except:\n",
        "        print(poem_url.text)\n",
        "  return poets, titles, poems"
      ]
    },
    {
      "cell_type": "code",
      "execution_count": 8,
      "metadata": {
        "id": "Qg7WC_XjxIia"
      },
      "outputs": [],
      "source": [
        "def get_data(url):\n",
        "  req = session.get(url)\n",
        "  page = req.text\n",
        "  soup = BeautifulSoup(page)\n",
        "  article = soup.find('article')\n",
        "  links = article.find_all('li')\n",
        "  for link in links[:5]:\n",
        "    get_poet(link.find('a', href=True)['href'])"
      ]
    },
    {
      "cell_type": "code",
      "execution_count": 9,
      "metadata": {
        "colab": {
          "base_uri": "https://localhost:8080/"
        },
        "id": "ihd4sWFRyYGm",
        "outputId": "d2f38e4f-0a06-4cfa-b75a-8c2f706615a4"
      },
      "outputs": [
        {
          "name": "stdout",
          "output_type": "stream",
          "text": [
            "Марина Цветаева — Асе (Ты — принцесса из царства не светского)\n",
            "Сергей Есенин — Да! Теперь — решено. Без возврата\n"
          ]
        }
      ],
      "source": [
        "get_data('https://rustih.ru/stixi-sovetskix-poetov/')"
      ]
    },
    {
      "cell_type": "code",
      "execution_count": 117,
      "metadata": {
        "id": "NLrvEHjK4w1o"
      },
      "outputs": [],
      "source": [
        "len_poems = []\n",
        "for poem in poems:\n",
        "  len_poems.append(len(poem.split()))"
      ]
    },
    {
      "cell_type": "code",
      "execution_count": 12,
      "metadata": {
        "id": "URjesuGk7wFk"
      },
      "outputs": [],
      "source": [
        "df = pd.DataFrame(columns=['poet', 'title', 'sentence'])"
      ]
    },
    {
      "cell_type": "code",
      "execution_count": 10,
      "metadata": {
        "id": "T-22TP1z74au"
      },
      "outputs": [],
      "source": [
        "def parse_poem(poem):\n",
        "  sentences = sent_tokenize(poem)\n",
        "  clean_sentences = []\n",
        "  for sent in sentences:\n",
        "    clean_sent = [word.strip() for word in word_tokenize(sent) if word.strip().isalpha()]\n",
        "    clean_sentences.append(' '.join(clean_sent))\n",
        "  return clean_sentences"
      ]
    },
    {
      "cell_type": "code",
      "execution_count": 13,
      "metadata": {
        "id": "mAD1Xc-T7TZ8"
      },
      "outputs": [],
      "source": [
        "for i, poet in enumerate(poets):\n",
        "  poem = poems[i]\n",
        "  clean_poem = parse_poem(poem)\n",
        "  for sent in clean_poem:\n",
        "    df = df.append({'poet': poet, 'title': titles[i], 'sentence': sent}, ignore_index=True)"
      ]
    },
    {
      "cell_type": "code",
      "execution_count": 14,
      "metadata": {
        "colab": {
          "base_uri": "https://localhost:8080/",
          "height": 214
        },
        "id": "spEPmduR-BZB",
        "outputId": "2ccb7c7d-23c7-4057-fad8-bc2738579f34"
      },
      "outputs": [
        {
          "data": {
            "text/html": [
              "<div>\n",
              "<style scoped>\n",
              "    .dataframe tbody tr th:only-of-type {\n",
              "        vertical-align: middle;\n",
              "    }\n",
              "\n",
              "    .dataframe tbody tr th {\n",
              "        vertical-align: top;\n",
              "    }\n",
              "\n",
              "    .dataframe thead th {\n",
              "        text-align: right;\n",
              "    }\n",
              "</style>\n",
              "<table border=\"1\" class=\"dataframe\">\n",
              "  <thead>\n",
              "    <tr style=\"text-align: right;\">\n",
              "      <th></th>\n",
              "      <th>poet</th>\n",
              "      <th>title</th>\n",
              "      <th>sentence</th>\n",
              "    </tr>\n",
              "  </thead>\n",
              "  <tbody>\n",
              "    <tr>\n",
              "      <th>0</th>\n",
              "      <td>Иван Бунин</td>\n",
              "      <td>Вечер</td>\n",
              "      <td>О счастье мы всегда лишь вспоминаем</td>\n",
              "    </tr>\n",
              "    <tr>\n",
              "      <th>1</th>\n",
              "      <td>Иван Бунин</td>\n",
              "      <td>Вечер</td>\n",
              "      <td>А счастье всюду</td>\n",
              "    </tr>\n",
              "    <tr>\n",
              "      <th>2</th>\n",
              "      <td>Иван Бунин</td>\n",
              "      <td>Вечер</td>\n",
              "      <td>Может быть оно Вот этот сад осенний за сараем ...</td>\n",
              "    </tr>\n",
              "    <tr>\n",
              "      <th>3</th>\n",
              "      <td>Иван Бунин</td>\n",
              "      <td>Вечер</td>\n",
              "      <td>В бездонном небе легким белым краем Встает сия...</td>\n",
              "    </tr>\n",
              "    <tr>\n",
              "      <th>4</th>\n",
              "      <td>Иван Бунин</td>\n",
              "      <td>Вечер</td>\n",
              "      <td>Давно Слежу за Мы мало видим знаем А счастье т...</td>\n",
              "    </tr>\n",
              "  </tbody>\n",
              "</table>\n",
              "</div>"
            ],
            "text/plain": [
              "         poet  title                                           sentence\n",
              "0  Иван Бунин  Вечер                О счастье мы всегда лишь вспоминаем\n",
              "1  Иван Бунин  Вечер                                    А счастье всюду\n",
              "2  Иван Бунин  Вечер  Может быть оно Вот этот сад осенний за сараем ...\n",
              "3  Иван Бунин  Вечер  В бездонном небе легким белым краем Встает сия...\n",
              "4  Иван Бунин  Вечер  Давно Слежу за Мы мало видим знаем А счастье т..."
            ]
          },
          "execution_count": 14,
          "metadata": {},
          "output_type": "execute_result"
        }
      ],
      "source": [
        "df.head()"
      ]
    },
    {
      "cell_type": "code",
      "execution_count": 24,
      "metadata": {
        "id": "ItPmfCTE-Af6"
      },
      "outputs": [],
      "source": [
        "import sqlite3"
      ]
    },
    {
      "cell_type": "code",
      "execution_count": 30,
      "metadata": {
        "id": "GPbhd0z--WnF"
      },
      "outputs": [],
      "source": [
        "conn = sqlite3.connect('poems_corpus.db')\n",
        "cur = conn.cursor()"
      ]
    },
    {
      "cell_type": "code",
      "execution_count": 31,
      "metadata": {
        "colab": {
          "base_uri": "https://localhost:8080/"
        },
        "id": "YASwoPba-bbQ",
        "outputId": "6e4ca930-b731-4486-a716-1b30e12fbe58"
      },
      "outputs": [
        {
          "data": {
            "text/plain": [
              "<sqlite3.Cursor at 0x7fe8430adb20>"
            ]
          },
          "execution_count": 31,
          "metadata": {},
          "output_type": "execute_result"
        }
      ],
      "source": [
        "cur.execute(\"\"\"\n",
        "CREATE TABLE IF NOT EXISTS info (\n",
        "    id_info INTEGER PRIMARY KEY, \n",
        "    poet TEXT,\n",
        "    title TEXT\n",
        ")\n",
        "\"\"\")\n",
        "\n",
        "cur.execute(\"\"\"\n",
        "CREATE TABLE IF NOT EXISTS sentences (\n",
        "    id_sent INTEGER PRIMARY KEY, \n",
        "    sent TEXT\n",
        ")\n",
        "\"\"\")\n",
        "\n",
        "cur.execute(\"\"\"\n",
        "CREATE TABLE IF NOT EXISTS poems_to_info\n",
        "(id INTEGER PRIMARY KEY AUTOINCREMENT, id_info int, id_sent int) \n",
        "\"\"\")"
      ]
    },
    {
      "cell_type": "code",
      "execution_count": 32,
      "metadata": {},
      "outputs": [],
      "source": [
        "cur.execute('SELECT id_info, poet, title FROM info')\n",
        "db_info = {}\n",
        "max_id = 0\n",
        "for idx, poet, title in cur.fetchall():\n",
        "    max_id += 1\n",
        "    if poet in db_info:\n",
        "        db_info[poet].append(title)\n",
        "    else:\n",
        "        db_info[poet] = [title]\n",
        "\n",
        "poem_cnt = 1\n",
        "for index, row in df.iterrows():\n",
        "    poet = row['poet']\n",
        "    title = row['title']\n",
        "    if poet not in db_info:\n",
        "        db_info[poet] = []\n",
        "    \n",
        "    if title not in db_info[poet]:\n",
        "        db_info[poet].append(title)\n",
        "        max_id += 1\n",
        "        cur.execute('INSERT INTO info VALUES (?, ?, ?)', (max_id, poet, title))\n",
        "        conn.commit()\n",
        "\n",
        "    poem_sent = row['sentence']\n",
        "    cur.execute('INSERT INTO sentences VALUES (?, ?)', (poem_cnt, poem_sent))\n",
        "    cur.execute('INSERT INTO poems_to_info (id_info, id_sent) VALUES (?, ?)', (max_id, poem_cnt))\n",
        "    poem_cnt += 1"
      ]
    },
    {
      "cell_type": "code",
      "execution_count": 177,
      "metadata": {
        "id": "TMihyuFBIfNp"
      },
      "outputs": [],
      "source": [
        "cur.execute('SELECT poet_id, poet FROM poets')\n",
        "db_poets = {}\n",
        "for idx, name in cur.fetchall():\n",
        "    db_poets[name] = idx\n",
        "\n",
        "cur.execute('SELECT title_id, title FROM titles')\n",
        "db_titles = {}\n",
        "for name, idx in cur.fetchall():\n",
        "    db_titles[name] = idx\n",
        " \n",
        "been_titles = []\n",
        "poem_cnt = 1\n",
        "for index, row in df.iterrows():\n",
        "  poet = row['poet']\n",
        "  if poet not in db_poets:\n",
        "    if db_poets.values():\n",
        "      db_poets[poet] = max(db_poets.values()) + 1 \n",
        "    else:\n",
        "      db_poets[poet] = 1\n",
        "    cur.execute('INSERT INTO poets VALUES (?, ?)', (db_poets[poet], poet))\n",
        "    conn.commit()\n",
        "  \n",
        "  title = row['title']\n",
        "  if title not in db_titles:\n",
        "    if db_titles.values():\n",
        "      db_titles[title] = max(db_titles.values()) + 1 \n",
        "    else:\n",
        "      db_titles[title] = 1\n",
        "    cur.execute('INSERT INTO titles VALUES (?, ?)', (db_titles[title], title))\n",
        "    conn.commit()\n",
        "\n",
        "  if title not in been_titles:\n",
        "    cur.execute('INSERT INTO poets_to_titles (id_poet, id_title) VALUES (?, ?)', (db_poets[poet], db_titles[title]))\n",
        "    been_titles.append(title)\n",
        "  \n",
        "  poem_sent = row['sentence']\n",
        "  cur.execute('INSERT INTO sentences VALUES (?, ?)', (poem_cnt, poem_sent))\n",
        "  poem_cnt += 1\n",
        "  \n",
        "  cur.execute('INSERT INTO poems_to_titles (id_poem, id_title) VALUES (?, ?)', (poem_cnt, db_titles[title]))"
      ]
    },
    {
      "cell_type": "code",
      "execution_count": null,
      "metadata": {
        "id": "sRIexDtRMY8z"
      },
      "outputs": [],
      "source": []
    }
  ],
  "metadata": {
    "colab": {
      "provenance": []
    },
    "kernelspec": {
      "display_name": "Python 3.9.6 64-bit",
      "language": "python",
      "name": "python3"
    },
    "language_info": {
      "codemirror_mode": {
        "name": "ipython",
        "version": 3
      },
      "file_extension": ".py",
      "mimetype": "text/x-python",
      "name": "python",
      "nbconvert_exporter": "python",
      "pygments_lexer": "ipython3",
      "version": "3.9.6"
    },
    "vscode": {
      "interpreter": {
        "hash": "7812ea015bdcee6f23a998adcdd2ef97c151c0c241b7b7070987d9313e41299d"
      }
    }
  },
  "nbformat": 4,
  "nbformat_minor": 0
}
