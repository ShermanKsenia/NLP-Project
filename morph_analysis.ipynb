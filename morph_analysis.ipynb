{
  "cells": [
    {
      "cell_type": "code",
      "execution_count": 1,
      "metadata": {
        "id": "-XOKHsVGpz3x"
      },
      "outputs": [],
      "source": [
        "from nltk.tokenize import sent_tokenize, word_tokenize\n",
        "from pymorphy2 import MorphAnalyzer\n",
        "import sqlite3"
      ]
    },
    {
      "cell_type": "code",
      "source": [
        "import nltk\n",
        "nltk.download('punkt')"
      ],
      "metadata": {
        "colab": {
          "base_uri": "https://localhost:8080/"
        },
        "id": "Z0bqVSX1fWYT",
        "outputId": "c38d8b3d-9c87-46f1-e634-dc116389a4c8"
      },
      "execution_count": 2,
      "outputs": [
        {
          "output_type": "stream",
          "name": "stderr",
          "text": [
            "[nltk_data] Downloading package punkt to /root/nltk_data...\n",
            "[nltk_data]   Package punkt is already up-to-date!\n"
          ]
        },
        {
          "output_type": "execute_result",
          "data": {
            "text/plain": [
              "True"
            ]
          },
          "metadata": {},
          "execution_count": 2
        }
      ]
    },
    {
      "cell_type": "code",
      "source": [
        "morph = MorphAnalyzer()"
      ],
      "metadata": {
        "id": "gBMbvAXTdzBl"
      },
      "execution_count": 3,
      "outputs": []
    },
    {
      "cell_type": "code",
      "source": [
        "def pos(word):\n",
        "    return morph.parse(word)[0].tag.POS"
      ],
      "metadata": {
        "id": "PwzVVCjAlJ3y"
      },
      "execution_count": 4,
      "outputs": []
    },
    {
      "cell_type": "code",
      "source": [
        "def lemma(word):\n",
        "  return morph.parse(word)[0].normal_form"
      ],
      "metadata": {
        "id": "C-xoYXAmmanq"
      },
      "execution_count": 5,
      "outputs": []
    },
    {
      "cell_type": "code",
      "execution_count": 6,
      "metadata": {
        "id": "GPbhd0z--WnF"
      },
      "outputs": [],
      "source": [
        "conn = sqlite3.connect('poems_corpus.db')\n",
        "cur = conn.cursor()"
      ]
    },
    {
      "cell_type": "code",
      "execution_count": 7,
      "metadata": {
        "colab": {
          "base_uri": "https://localhost:8080/"
        },
        "id": "YASwoPba-bbQ",
        "outputId": "5d7c8b7d-ce7c-4ffd-e53a-ed8c3280c672"
      },
      "outputs": [
        {
          "output_type": "execute_result",
          "data": {
            "text/plain": [
              "<sqlite3.Cursor at 0x7f08ffb16ab0>"
            ]
          },
          "metadata": {},
          "execution_count": 7
        }
      ],
      "source": [
        "cur.execute(\"\"\"\n",
        "CREATE TABLE IF NOT EXISTS tokens (\n",
        "    token_id INTEGER PRIMARY KEY AUTOINCREMENT,\n",
        "    token TEXT,\n",
        "    lemma TEXT,\n",
        "    pos TEXT,\n",
        "    sent_id int\n",
        ")\n",
        "\"\"\")"
      ]
    },
    {
      "cell_type": "code",
      "source": [
        "cur.execute('SELECT id_sent, sent FROM sentences')\n",
        "for idx, sent in cur.fetchall():\n",
        "  tokens = word_tokenize(sent)\n",
        "  for token in tokens:\n",
        "    token_lemma = lemma(token)\n",
        "    token_pos = pos(token)\n",
        "    if token_pos and (token_pos.startswith('ADJ') or token_pos.startswith('PRT')):\n",
        "      token_pos = token_pos[:-1]\n",
        "    cur.execute(\n",
        "        \"\"\"\n",
        "        INSERT INTO tokens \n",
        "        (token, lemma, pos, sent_id) \n",
        "        VALUES (?, ?, ?, ?)\n",
        "        \"\"\", (token.lower(), token_lemma, token_pos, idx)\n",
        "    )"
      ],
      "metadata": {
        "id": "uTMaIwAWezPd"
      },
      "execution_count": 8,
      "outputs": []
    },
    {
      "cell_type": "code",
      "source": [
        "conn.commit()"
      ],
      "metadata": {
        "id": "dXKQn_-Lvxjw"
      },
      "execution_count": 9,
      "outputs": []
    }
  ],
  "metadata": {
    "colab": {
      "provenance": [],
      "collapsed_sections": []
    },
    "kernelspec": {
      "display_name": "Python 3.9.6 64-bit",
      "language": "python",
      "name": "python3"
    },
    "language_info": {
      "codemirror_mode": {
        "name": "ipython",
        "version": 3
      },
      "file_extension": ".py",
      "mimetype": "text/x-python",
      "name": "python",
      "nbconvert_exporter": "python",
      "pygments_lexer": "ipython3",
      "version": "3.9.6"
    },
    "vscode": {
      "interpreter": {
        "hash": "7812ea015bdcee6f23a998adcdd2ef97c151c0c241b7b7070987d9313e41299d"
      }
    }
  },
  "nbformat": 4,
  "nbformat_minor": 0
}