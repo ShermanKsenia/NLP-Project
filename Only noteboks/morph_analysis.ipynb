{
 "cells": [
  {
   "cell_type": "code",
   "execution_count": 1,
   "metadata": {
    "id": "-XOKHsVGpz3x"
   },
   "outputs": [],
   "source": [
    "from pymystem3 import Mystem\n",
    "import sqlite3"
   ]
  },
  {
   "cell_type": "code",
   "execution_count": 2,
   "metadata": {
    "colab": {
     "base_uri": "https://localhost:8080/"
    },
    "id": "baSw09FbugmV",
    "outputId": "5f8d0393-0924-4656-b99e-c6face9a23a9"
   },
   "outputs": [],
   "source": [
    "#pip install pymystem3"
   ]
  },
  {
   "cell_type": "code",
   "execution_count": 3,
   "metadata": {
    "id": "gBMbvAXTdzBl"
   },
   "outputs": [],
   "source": [
    "m = Mystem()"
   ]
  },
  {
   "cell_type": "code",
   "execution_count": 4,
   "metadata": {
    "id": "GPbhd0z--WnF"
   },
   "outputs": [],
   "source": [
    "conn = sqlite3.connect('poems_corpus.db')\n",
    "cur = conn.cursor()"
   ]
  },
  {
   "cell_type": "code",
   "execution_count": 5,
   "metadata": {
    "colab": {
     "base_uri": "https://localhost:8080/"
    },
    "id": "YASwoPba-bbQ",
    "outputId": "5d7c8b7d-ce7c-4ffd-e53a-ed8c3280c672"
   },
   "outputs": [
    {
     "data": {
      "text/plain": [
       "<sqlite3.Cursor at 0x7fda21f28c00>"
      ]
     },
     "execution_count": 5,
     "metadata": {},
     "output_type": "execute_result"
    }
   ],
   "source": [
    "cur.execute(\"\"\"\n",
    "CREATE TABLE IF NOT EXISTS tokens (\n",
    "    token_id INTEGER PRIMARY KEY AUTOINCREMENT,\n",
    "    token TEXT,\n",
    "    lemma TEXT,\n",
    "    pos TEXT,\n",
    "    sent_id int\n",
    ")\n",
    "\"\"\")"
   ]
  },
  {
   "cell_type": "code",
   "execution_count": 6,
   "metadata": {
    "id": "s8dFQLyJvIw3"
   },
   "outputs": [],
   "source": [
    "cur.execute('SELECT id_sent, sent FROM sentences')\n",
    "for idx, sent in cur.fetchall():\n",
    "    ana = m.analyze(sent)\n",
    "    for word in ana:\n",
    "        if 'analysis' in word:\n",
    "            token = word['text'].lower()\n",
    "            lemma = token\n",
    "            pos = None\n",
    "            if word['analysis']:\n",
    "                lemma = word['analysis'][0]['lex']\n",
    "                gr = word['analysis'][0]['gr']\n",
    "                pos = gr.split('=')[0].split(',')[0]\n",
    "                if 'прич' in gr:\n",
    "                    pos = 'PRT'\n",
    "                elif 'деепр' in gr:\n",
    "                    pos = 'GRND'\n",
    "            cur.execute(\n",
    "                \"\"\"\n",
    "                INSERT INTO tokens \n",
    "                (token, lemma, pos, sent_id)\n",
    "                VALUES (?, ?, ?, ?)\n",
    "                \"\"\", (token, lemma, pos, idx)\n",
    "            )"
   ]
  },
  {
   "cell_type": "code",
   "execution_count": 7,
   "metadata": {
    "id": "dXKQn_-Lvxjw"
   },
   "outputs": [],
   "source": [
    "conn.commit()"
   ]
  }
 ],
 "metadata": {
  "colab": {
   "collapsed_sections": [],
   "provenance": []
  },
  "kernelspec": {
   "display_name": "Python 3",
   "language": "python",
   "name": "python3"
  },
  "language_info": {
   "codemirror_mode": {
    "name": "ipython",
    "version": 3
   },
   "file_extension": ".py",
   "mimetype": "text/x-python",
   "name": "python",
   "nbconvert_exporter": "python",
   "pygments_lexer": "ipython3",
   "version": "3.8.8"
  },
  "vscode": {
   "interpreter": {
    "hash": "7812ea015bdcee6f23a998adcdd2ef97c151c0c241b7b7070987d9313e41299d"
   }
  }
 },
 "nbformat": 4,
 "nbformat_minor": 1
}
