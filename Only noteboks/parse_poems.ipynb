{
  "cells": [
    {
      "cell_type": "code",
      "execution_count": 1,
      "metadata": {
        "id": "-XOKHsVGpz3x"
      },
      "outputs": [],
      "source": [
        "import requests\n",
        "import pandas as pd\n",
        "from nltk.tokenize import sent_tokenize, word_tokenize\n",
        "from bs4 import BeautifulSoup\n",
        "from tqdm import tqdm"
      ]
    },
    {
      "cell_type": "code",
      "execution_count": 2,
      "metadata": {
        "id": "xOKIau2G8GRK"
      },
      "outputs": [
        {
          "name": "stderr",
          "output_type": "stream",
          "text": [
            "[nltk_data] Downloading package punkt to /Users/ksenia/nltk_data...\n",
            "[nltk_data]   Package punkt is already up-to-date!\n"
          ]
        },
        {
          "data": {
            "text/plain": [
              "True"
            ]
          },
          "execution_count": 2,
          "metadata": {},
          "output_type": "execute_result"
        }
      ],
      "source": [
        "import nltk\n",
        "nltk.download('punkt')"
      ]
    },
    {
      "cell_type": "markdown",
      "metadata": {},
      "source": [
        "## Сбор корпуса"
      ]
    },
    {
      "cell_type": "markdown",
      "metadata": {},
      "source": [
        "Мы решили построить корпус на основе стихотворений советский поэтов с сайта: https://rustih.ru/stixi-sovetskix-poetov/"
      ]
    },
    {
      "cell_type": "code",
      "execution_count": 3,
      "metadata": {
        "id": "Gn7Mb1FUp5k1"
      },
      "outputs": [],
      "source": [
        "session = requests.session()\n",
        "poets, titles, poems = [], [], []"
      ]
    },
    {
      "cell_type": "code",
      "execution_count": 4,
      "metadata": {
        "id": "yASyGPyOvpra"
      },
      "outputs": [],
      "source": [
        "def get_poem(poem_url):\n",
        "  poem_req = session.get(poem_url)\n",
        "  poem_page = poem_req.text\n",
        "  poem_soup = BeautifulSoup(poem_page)\n",
        "  poem = BeautifulSoup(str(poem_soup.find('div', {'class': 'entry-content poem-text'})).split('<h2>')[0]).text\n",
        "  if len(poem.split()) >= 110:\n",
        "    return poem\n",
        "  return False"
      ]
    },
    {
      "cell_type": "code",
      "execution_count": 5,
      "metadata": {
        "id": "uddNlwfSwPVi"
      },
      "outputs": [],
      "source": [
        "def get_poet(poet_url):\n",
        "  poet_req = session.get(poet_url)\n",
        "  poet_page = poet_req.text\n",
        "  poet_soup = BeautifulSoup(poet_page)\n",
        "  all_poems = poet_soup.find_all('div', {'class': 'entry-title'})\n",
        "  global poets\n",
        "  global titles\n",
        "  global poems\n",
        "  for poem_url in all_poems:\n",
        "    poem = get_poem(poem_url.find('a', href=True)['href'])\n",
        "    if poem != False:\n",
        "      try:\n",
        "        poet, title = poem_url.text.strip().split(' — ')\n",
        "        poets.append(poet)\n",
        "        titles.append(title)\n",
        "        poems.append(poem)\n",
        "      except:\n",
        "        print(poem_url.text)\n",
        "  return poets, titles, poems"
      ]
    },
    {
      "cell_type": "code",
      "execution_count": 6,
      "metadata": {
        "id": "Qg7WC_XjxIia"
      },
      "outputs": [],
      "source": [
        "def get_data(url):\n",
        "  req = session.get(url)\n",
        "  page = req.text\n",
        "  soup = BeautifulSoup(page)\n",
        "  article = soup.find('article')\n",
        "  links = article.find_all('li')\n",
        "  for link in tqdm(links[:7]):\n",
        "    get_poet(link.find('a', href=True)['href'])"
      ]
    },
    {
      "cell_type": "code",
      "execution_count": 7,
      "metadata": {
        "colab": {
          "base_uri": "https://localhost:8080/"
        },
        "id": "ihd4sWFRyYGm",
        "outputId": "d2f38e4f-0a06-4cfa-b75a-8c2f706615a4"
      },
      "outputs": [
        {
          "name": "stderr",
          "output_type": "stream",
          "text": [
            " 14%|█▍        | 1/7 [00:09<00:55,  9.25s/it]"
          ]
        },
        {
          "name": "stdout",
          "output_type": "stream",
          "text": [
            "Марина Цветаева — Асе (Ты — принцесса из царства не светского)\n"
          ]
        },
        {
          "name": "stderr",
          "output_type": "stream",
          "text": [
            " 29%|██▊       | 2/7 [00:17<00:44,  8.92s/it]"
          ]
        },
        {
          "name": "stdout",
          "output_type": "stream",
          "text": [
            "Сергей Есенин — Да! Теперь — решено. Без возврата\n"
          ]
        },
        {
          "name": "stderr",
          "output_type": "stream",
          "text": [
            "100%|██████████| 7/7 [01:19<00:00, 11.31s/it]\n"
          ]
        }
      ],
      "source": [
        "get_data('https://rustih.ru/stixi-sovetskix-poetov/')"
      ]
    },
    {
      "cell_type": "markdown",
      "metadata": {},
      "source": [
        "В результате у нас получилось 263 стихотворений длиной не меньше 110 токенов. \n",
        "\n",
        "Стихотворения были написаны 7 поэтами: Марина Цветаева, Иван Бунин, Владимир Маяковский, Валерий Брюсов, Сергей Есенин, Анна Ахматова и Александр Блок.\n",
        "\n",
        "Предложения из одного слова мы решили удалить, так как они не имеют никакой практической значимости."
      ]
    },
    {
      "cell_type": "code",
      "execution_count": 8,
      "metadata": {
        "id": "NLrvEHjK4w1o"
      },
      "outputs": [],
      "source": [
        "len_poems = []\n",
        "for poem in poems:\n",
        "  len_poems.append(len(poem.split()))"
      ]
    },
    {
      "cell_type": "code",
      "execution_count": 9,
      "metadata": {},
      "outputs": [
        {
          "data": {
            "text/plain": [
              "(263, 110)"
            ]
          },
          "execution_count": 9,
          "metadata": {},
          "output_type": "execute_result"
        }
      ],
      "source": [
        "len(poems), min(len_poems)"
      ]
    },
    {
      "cell_type": "code",
      "execution_count": 10,
      "metadata": {
        "id": "URjesuGk7wFk"
      },
      "outputs": [],
      "source": [
        "df = pd.DataFrame(columns=['poet', 'title', 'sentence'])"
      ]
    },
    {
      "cell_type": "code",
      "execution_count": 11,
      "metadata": {
        "id": "T-22TP1z74au"
      },
      "outputs": [],
      "source": [
        "def parse_poem(poem):\n",
        "  sentences = sent_tokenize(poem)\n",
        "  clean_sentences = []\n",
        "  for sent in sentences:\n",
        "    clean_sent = [word.strip() for word in word_tokenize(sent) if word.strip().isalpha()]\n",
        "    if len(clean_sent) > 1:\n",
        "      clean_sentences.append(' '.join(clean_sent))\n",
        "  return clean_sentences"
      ]
    },
    {
      "cell_type": "code",
      "execution_count": 12,
      "metadata": {
        "id": "mAD1Xc-T7TZ8"
      },
      "outputs": [],
      "source": [
        "for i, poet in enumerate(poets):\n",
        "  poem = poems[i]\n",
        "  clean_poem = parse_poem(poem)\n",
        "  for sent in clean_poem:\n",
        "    df = df.append({'poet': poet, 'title': titles[i], 'sentence': sent}, ignore_index=True)"
      ]
    },
    {
      "cell_type": "code",
      "execution_count": 13,
      "metadata": {},
      "outputs": [
        {
          "data": {
            "text/html": [
              "<div>\n",
              "<style scoped>\n",
              "    .dataframe tbody tr th:only-of-type {\n",
              "        vertical-align: middle;\n",
              "    }\n",
              "\n",
              "    .dataframe tbody tr th {\n",
              "        vertical-align: top;\n",
              "    }\n",
              "\n",
              "    .dataframe thead th {\n",
              "        text-align: right;\n",
              "    }\n",
              "</style>\n",
              "<table border=\"1\" class=\"dataframe\">\n",
              "  <thead>\n",
              "    <tr style=\"text-align: right;\">\n",
              "      <th></th>\n",
              "      <th>poet</th>\n",
              "      <th>title</th>\n",
              "      <th>sentence</th>\n",
              "    </tr>\n",
              "  </thead>\n",
              "  <tbody>\n",
              "    <tr>\n",
              "      <th>0</th>\n",
              "      <td>Иван Бунин</td>\n",
              "      <td>Одиночество</td>\n",
              "      <td>И ветер и дождик и мгла Над холодной пустыней ...</td>\n",
              "    </tr>\n",
              "    <tr>\n",
              "      <th>1</th>\n",
              "      <td>Иван Бунин</td>\n",
              "      <td>Одиночество</td>\n",
              "      <td>Здесь жизнь до весны умерла До весны опустели ...</td>\n",
              "    </tr>\n",
              "    <tr>\n",
              "      <th>2</th>\n",
              "      <td>Иван Бунин</td>\n",
              "      <td>Одиночество</td>\n",
              "      <td>Я на даче один</td>\n",
              "    </tr>\n",
              "    <tr>\n",
              "      <th>3</th>\n",
              "      <td>Иван Бунин</td>\n",
              "      <td>Одиночество</td>\n",
              "      <td>Мне темно За мольбертом и дует в окно</td>\n",
              "    </tr>\n",
              "    <tr>\n",
              "      <th>4</th>\n",
              "      <td>Иван Бунин</td>\n",
              "      <td>Одиночество</td>\n",
              "      <td>Вчера ты была у меня Но тебе уж тоскливо со мной</td>\n",
              "    </tr>\n",
              "  </tbody>\n",
              "</table>\n",
              "</div>"
            ],
            "text/plain": [
              "         poet        title                                           sentence\n",
              "0  Иван Бунин  Одиночество  И ветер и дождик и мгла Над холодной пустыней ...\n",
              "1  Иван Бунин  Одиночество  Здесь жизнь до весны умерла До весны опустели ...\n",
              "2  Иван Бунин  Одиночество                                     Я на даче один\n",
              "3  Иван Бунин  Одиночество              Мне темно За мольбертом и дует в окно\n",
              "4  Иван Бунин  Одиночество   Вчера ты была у меня Но тебе уж тоскливо со мной"
            ]
          },
          "execution_count": 13,
          "metadata": {},
          "output_type": "execute_result"
        }
      ],
      "source": [
        "df.head()"
      ]
    },
    {
      "cell_type": "code",
      "execution_count": 14,
      "metadata": {},
      "outputs": [
        {
          "data": {
            "text/plain": [
              "array(['Иван Бунин', 'Марина Цветаева', 'Сергей Есенин',\n",
              "       'Владимир Маяковский', 'Валерий Брюсов', 'Александр Блок',\n",
              "       'Анна Ахматова'], dtype=object)"
            ]
          },
          "execution_count": 14,
          "metadata": {},
          "output_type": "execute_result"
        }
      ],
      "source": [
        "df['poet'].unique()"
      ]
    },
    {
      "cell_type": "markdown",
      "metadata": {},
      "source": [
        "## Сбор корпуса"
      ]
    },
    {
      "cell_type": "markdown",
      "metadata": {},
      "source": [
        "Мы решили сделать базу данных на основе SQL, чтобы разделить метаданные стихотворений и необходимые для поиска токены с предложениями."
      ]
    },
    {
      "cell_type": "code",
      "execution_count": 15,
      "metadata": {
        "id": "ItPmfCTE-Af6"
      },
      "outputs": [],
      "source": [
        "import sqlite3"
      ]
    },
    {
      "cell_type": "code",
      "execution_count": 16,
      "metadata": {
        "id": "GPbhd0z--WnF"
      },
      "outputs": [],
      "source": [
        "conn = sqlite3.connect('poems_corpus.db')\n",
        "cur = conn.cursor()"
      ]
    },
    {
      "cell_type": "markdown",
      "metadata": {},
      "source": [
        "На данном этапе БД состоит из трёх таблиц:\n",
        "- info: информация о поэте и названии стихотворения\n",
        "- sentences: очищенные предложения\n",
        "- poems_to_info: промежуточная таблица, соединяющая метаданные с предложениями"
      ]
    },
    {
      "cell_type": "code",
      "execution_count": 17,
      "metadata": {
        "colab": {
          "base_uri": "https://localhost:8080/"
        },
        "id": "YASwoPba-bbQ",
        "outputId": "6e4ca930-b731-4486-a716-1b30e12fbe58"
      },
      "outputs": [
        {
          "data": {
            "text/plain": [
              "<sqlite3.Cursor at 0x7fbca2b591f0>"
            ]
          },
          "execution_count": 17,
          "metadata": {},
          "output_type": "execute_result"
        }
      ],
      "source": [
        "cur.execute(\"\"\"\n",
        "CREATE TABLE IF NOT EXISTS info (\n",
        "    id_info INTEGER PRIMARY KEY, \n",
        "    poet TEXT,\n",
        "    title TEXT\n",
        ")\n",
        "\"\"\")\n",
        "\n",
        "cur.execute(\"\"\"\n",
        "CREATE TABLE IF NOT EXISTS sentences (\n",
        "    id_sent INTEGER PRIMARY KEY, \n",
        "    sent TEXT\n",
        ")\n",
        "\"\"\")\n",
        "\n",
        "cur.execute(\"\"\"\n",
        "CREATE TABLE IF NOT EXISTS poems_to_info\n",
        "(id INTEGER PRIMARY KEY AUTOINCREMENT, id_info int, id_sent int) \n",
        "\"\"\")"
      ]
    },
    {
      "cell_type": "code",
      "execution_count": 18,
      "metadata": {},
      "outputs": [],
      "source": [
        "new_df = df.groupby(['title', 'poet'])['sentence'].agg(list).reset_index()"
      ]
    },
    {
      "cell_type": "code",
      "execution_count": 19,
      "metadata": {},
      "outputs": [],
      "source": [
        "cur.execute('SELECT id_info, poet, title FROM info')\n",
        "db_info = {}\n",
        "max_id = 0\n",
        "for idx, poet, title in cur.fetchall():\n",
        "    max_id += 1\n",
        "    if poet in db_info:\n",
        "        db_info[poet].append(title)\n",
        "    else:\n",
        "        db_info[poet] = [title]\n",
        "\n",
        "cur.execute('SELECT COUNT(id_sent) FROM sentences')\n",
        "poem_cnt = cur.fetchone()[0] + 1\n",
        "for index, row in new_df.iterrows():\n",
        "    poet = row['poet']\n",
        "    title = row['title']\n",
        "    sentences = row['sentence']\n",
        "    if poet not in db_info:\n",
        "        db_info[poet] = []\n",
        "    \n",
        "    if title not in db_info[poet]:\n",
        "        db_info[poet].append(title)\n",
        "        max_id += 1\n",
        "        cur.execute('INSERT INTO info VALUES (?, ?, ?)', (max_id, poet, title))\n",
        "        conn.commit()\n",
        "        for poem_sent in sentences:\n",
        "            cur.execute('INSERT INTO sentences VALUES (?, ?)', (poem_cnt, poem_sent))\n",
        "            cur.execute('INSERT INTO poems_to_info (id_info, id_sent) VALUES (?, ?)', (max_id, poem_cnt))\n",
        "            poem_cnt += 1\n",
        "            conn.commit()"
      ]
    },
    {
      "cell_type": "code",
      "execution_count": 20,
      "metadata": {},
      "outputs": [
        {
          "name": "stdout",
          "output_type": "stream",
          "text": [
            "8415\n"
          ]
        }
      ],
      "source": [
        "cur.execute('SELECT COUNT(id_sent) FROM sentences')\n",
        "print(cur.fetchone()[0])"
      ]
    },
    {
      "cell_type": "code",
      "execution_count": null,
      "metadata": {},
      "outputs": [],
      "source": []
    }
  ],
  "metadata": {
    "colab": {
      "provenance": []
    },
    "kernelspec": {
      "display_name": "Python 3.9.6 64-bit",
      "language": "python",
      "name": "python3"
    },
    "language_info": {
      "codemirror_mode": {
        "name": "ipython",
        "version": 3
      },
      "file_extension": ".py",
      "mimetype": "text/x-python",
      "name": "python",
      "nbconvert_exporter": "python",
      "pygments_lexer": "ipython3",
      "version": "3.9.6"
    },
    "vscode": {
      "interpreter": {
        "hash": "7812ea015bdcee6f23a998adcdd2ef97c151c0c241b7b7070987d9313e41299d"
      }
    }
  },
  "nbformat": 4,
  "nbformat_minor": 0
}
