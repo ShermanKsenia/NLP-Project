{
  "cells": [
    {
      "cell_type": "code",
      "execution_count": 31,
      "metadata": {
        "id": "-XOKHsVGpz3x"
      },
      "outputs": [],
      "source": [
        "import requests\n",
        "import pandas as pd\n",
        "from nltk.tokenize import sent_tokenize, word_tokenize\n",
        "from bs4 import BeautifulSoup\n",
        "from tqdm import tqdm"
      ]
    },
    {
      "cell_type": "code",
      "execution_count": 32,
      "metadata": {
        "id": "xOKIau2G8GRK"
      },
      "outputs": [
        {
          "name": "stderr",
          "output_type": "stream",
          "text": [
            "[nltk_data] Downloading package punkt to /Users/ksenia/nltk_data...\n",
            "[nltk_data]   Package punkt is already up-to-date!\n"
          ]
        },
        {
          "data": {
            "text/plain": [
              "True"
            ]
          },
          "execution_count": 32,
          "metadata": {},
          "output_type": "execute_result"
        }
      ],
      "source": [
        "import nltk\n",
        "nltk.download('punkt')"
      ]
    },
    {
      "cell_type": "markdown",
      "metadata": {},
      "source": [
        "## Сбор корпуса"
      ]
    },
    {
      "cell_type": "markdown",
      "metadata": {},
      "source": [
        "Мы решили построить корпус на основе стихотворений советский поэтов с сайта: https://rustih.ru/stixi-sovetskix-poetov/"
      ]
    },
    {
      "cell_type": "code",
      "execution_count": 33,
      "metadata": {
        "id": "Gn7Mb1FUp5k1"
      },
      "outputs": [],
      "source": [
        "session = requests.session()\n",
        "poets, titles, poems = [], [], []"
      ]
    },
    {
      "cell_type": "code",
      "execution_count": 34,
      "metadata": {
        "id": "yASyGPyOvpra"
      },
      "outputs": [],
      "source": [
        "def get_poem(poem_url):\n",
        "  poem_req = session.get(poem_url)\n",
        "  poem_page = poem_req.text\n",
        "  poem_soup = BeautifulSoup(poem_page)\n",
        "  poem = BeautifulSoup(str(poem_soup.find('div', {'class': 'entry-content poem-text'})).split('<h2>')[0]).text\n",
        "  if len(poem.split()) >= 110:\n",
        "    return poem\n",
        "  return False"
      ]
    },
    {
      "cell_type": "code",
      "execution_count": 35,
      "metadata": {
        "id": "uddNlwfSwPVi"
      },
      "outputs": [],
      "source": [
        "def get_poet(poet_url):\n",
        "  poet_req = session.get(poet_url)\n",
        "  poet_page = poet_req.text\n",
        "  poet_soup = BeautifulSoup(poet_page)\n",
        "  all_poems = poet_soup.find_all('div', {'class': 'entry-title'})\n",
        "  global poets\n",
        "  global titles\n",
        "  global poems\n",
        "  for poem_url in all_poems:\n",
        "    poem = get_poem(poem_url.find('a', href=True)['href'])\n",
        "    if poem != False:\n",
        "      try:\n",
        "        poet, title = poem_url.text.strip().split(' — ')\n",
        "        poets.append(poet)\n",
        "        titles.append(title)\n",
        "        poems.append(poem)\n",
        "      except:\n",
        "        print(poem_url.text)\n",
        "  return poets, titles, poems"
      ]
    },
    {
      "cell_type": "code",
      "execution_count": 36,
      "metadata": {
        "id": "Qg7WC_XjxIia"
      },
      "outputs": [],
      "source": [
        "def get_data(url):\n",
        "  req = session.get(url)\n",
        "  page = req.text\n",
        "  soup = BeautifulSoup(page)\n",
        "  article = soup.find('article')\n",
        "  links = article.find_all('li')\n",
        "  for link in tqdm(links[:7]):\n",
        "    get_poet(link.find('a', href=True)['href'])"
      ]
    },
    {
      "cell_type": "code",
      "execution_count": 37,
      "metadata": {
        "colab": {
          "base_uri": "https://localhost:8080/"
        },
        "id": "ihd4sWFRyYGm",
        "outputId": "d2f38e4f-0a06-4cfa-b75a-8c2f706615a4"
      },
      "outputs": [
        {
          "name": "stderr",
          "output_type": "stream",
          "text": [
            " 14%|█▍        | 1/7 [00:14<01:28, 14.73s/it]"
          ]
        },
        {
          "name": "stdout",
          "output_type": "stream",
          "text": [
            "Марина Цветаева — Асе (Ты — принцесса из царства не светского)\n"
          ]
        },
        {
          "name": "stderr",
          "output_type": "stream",
          "text": [
            " 29%|██▊       | 2/7 [00:25<01:01, 12.32s/it]"
          ]
        },
        {
          "name": "stdout",
          "output_type": "stream",
          "text": [
            "Сергей Есенин — Да! Теперь — решено. Без возврата\n"
          ]
        },
        {
          "name": "stderr",
          "output_type": "stream",
          "text": [
            "100%|██████████| 7/7 [01:36<00:00, 13.74s/it]\n"
          ]
        }
      ],
      "source": [
        "get_data('https://rustih.ru/stixi-sovetskix-poetov/')"
      ]
    },
    {
      "cell_type": "markdown",
      "metadata": {},
      "source": [
        "В результате у нас получилось 263 стихотворений длиной не меньше 110 токенов. \n",
        "\n",
        "Стихотворения были написаны 7 поэтами: Марина Цветаева, Иван Бунин, Владимир Маяковский, Валерий Брюсов, Сергей Есенин, Анна Ахматова и Александр Блок.\n",
        "\n",
        "Предложения из одного слова мы решили удалить, так как они не имеют никакой практической значимости."
      ]
    },
    {
      "cell_type": "code",
      "execution_count": 38,
      "metadata": {
        "id": "NLrvEHjK4w1o"
      },
      "outputs": [],
      "source": [
        "len_poems = []\n",
        "for poem in poems:\n",
        "  len_poems.append(len(poem.split()))"
      ]
    },
    {
      "cell_type": "code",
      "execution_count": 39,
      "metadata": {},
      "outputs": [
        {
          "data": {
            "text/plain": [
              "(263, 110)"
            ]
          },
          "execution_count": 39,
          "metadata": {},
          "output_type": "execute_result"
        }
      ],
      "source": [
        "len(poems), min(len_poems)"
      ]
    },
    {
      "cell_type": "code",
      "execution_count": 79,
      "metadata": {
        "id": "URjesuGk7wFk"
      },
      "outputs": [],
      "source": [
        "df = pd.DataFrame(columns=['poet', 'title', 'sentence'])"
      ]
    },
    {
      "cell_type": "code",
      "execution_count": 80,
      "metadata": {
        "id": "T-22TP1z74au"
      },
      "outputs": [],
      "source": [
        "def parse_poem(poem):\n",
        "  sentences = sent_tokenize(poem)\n",
        "  dirty_sentences = []\n",
        "  clean_sentences = []\n",
        "  for sent in sentences:\n",
        "    clean_sent = [word.strip() for word in word_tokenize(sent) if word.strip().isalpha()]\n",
        "    if len(clean_sent) > 1:\n",
        "      clean_sentences.append(' '.join(clean_sent))\n",
        "      new_sent = sent.replace('\\n', '<br>')\n",
        "      dirty_sentences.append(new_sent)\n",
        "  return clean_sentences, dirty_sentences"
      ]
    },
    {
      "cell_type": "code",
      "execution_count": 81,
      "metadata": {
        "id": "mAD1Xc-T7TZ8"
      },
      "outputs": [],
      "source": [
        "for i, poet in enumerate(poets):\n",
        "  poem = poems[i]\n",
        "  clean_poem, sents = parse_poem(poem)\n",
        "  for csent, sent in zip(clean_poem, sents):\n",
        "    df = df.append({'poet': poet, 'title': titles[i], 'clean_sentence': csent, 'sentence': sent}, ignore_index=True)"
      ]
    },
    {
      "cell_type": "code",
      "execution_count": 82,
      "metadata": {},
      "outputs": [
        {
          "data": {
            "text/html": [
              "<div>\n",
              "<style scoped>\n",
              "    .dataframe tbody tr th:only-of-type {\n",
              "        vertical-align: middle;\n",
              "    }\n",
              "\n",
              "    .dataframe tbody tr th {\n",
              "        vertical-align: top;\n",
              "    }\n",
              "\n",
              "    .dataframe thead th {\n",
              "        text-align: right;\n",
              "    }\n",
              "</style>\n",
              "<table border=\"1\" class=\"dataframe\">\n",
              "  <thead>\n",
              "    <tr style=\"text-align: right;\">\n",
              "      <th></th>\n",
              "      <th>poet</th>\n",
              "      <th>title</th>\n",
              "      <th>sentence</th>\n",
              "      <th>clean_sentence</th>\n",
              "    </tr>\n",
              "  </thead>\n",
              "  <tbody>\n",
              "    <tr>\n",
              "      <th>0</th>\n",
              "      <td>Иван Бунин</td>\n",
              "      <td>Одиночество</td>\n",
              "      <td>&lt;br&gt;И ветер, и дождик, и мгла&lt;br&gt;Над холодной ...</td>\n",
              "      <td>И ветер и дождик и мгла Над холодной пустыней ...</td>\n",
              "    </tr>\n",
              "    <tr>\n",
              "      <th>1</th>\n",
              "      <td>Иван Бунин</td>\n",
              "      <td>Одиночество</td>\n",
              "      <td>Здесь жизнь до весны умерла,&lt;br&gt;До весны опуст...</td>\n",
              "      <td>Здесь жизнь до весны умерла До весны опустели ...</td>\n",
              "    </tr>\n",
              "    <tr>\n",
              "      <th>2</th>\n",
              "      <td>Иван Бунин</td>\n",
              "      <td>Одиночество</td>\n",
              "      <td>Я на даче один.</td>\n",
              "      <td>Я на даче один</td>\n",
              "    </tr>\n",
              "    <tr>\n",
              "      <th>3</th>\n",
              "      <td>Иван Бунин</td>\n",
              "      <td>Одиночество</td>\n",
              "      <td>Мне темно&lt;br&gt;За мольбертом, и дует в окно.</td>\n",
              "      <td>Мне темно За мольбертом и дует в окно</td>\n",
              "    </tr>\n",
              "    <tr>\n",
              "      <th>4</th>\n",
              "      <td>Иван Бунин</td>\n",
              "      <td>Одиночество</td>\n",
              "      <td>Вчера ты была у меня,&lt;br&gt;Но тебе уж тоскливо с...</td>\n",
              "      <td>Вчера ты была у меня Но тебе уж тоскливо со мной</td>\n",
              "    </tr>\n",
              "  </tbody>\n",
              "</table>\n",
              "</div>"
            ],
            "text/plain": [
              "         poet        title                                           sentence  \\\n",
              "0  Иван Бунин  Одиночество  <br>И ветер, и дождик, и мгла<br>Над холодной ...   \n",
              "1  Иван Бунин  Одиночество  Здесь жизнь до весны умерла,<br>До весны опуст...   \n",
              "2  Иван Бунин  Одиночество                                    Я на даче один.   \n",
              "3  Иван Бунин  Одиночество         Мне темно<br>За мольбертом, и дует в окно.   \n",
              "4  Иван Бунин  Одиночество  Вчера ты была у меня,<br>Но тебе уж тоскливо с...   \n",
              "\n",
              "                                      clean_sentence  \n",
              "0  И ветер и дождик и мгла Над холодной пустыней ...  \n",
              "1  Здесь жизнь до весны умерла До весны опустели ...  \n",
              "2                                     Я на даче один  \n",
              "3              Мне темно За мольбертом и дует в окно  \n",
              "4   Вчера ты была у меня Но тебе уж тоскливо со мной  "
            ]
          },
          "execution_count": 82,
          "metadata": {},
          "output_type": "execute_result"
        }
      ],
      "source": [
        "df.head()"
      ]
    },
    {
      "cell_type": "code",
      "execution_count": 77,
      "metadata": {},
      "outputs": [
        {
          "data": {
            "text/plain": [
              "array(['Иван Бунин', 'Марина Цветаева', 'Сергей Есенин',\n",
              "       'Владимир Маяковский', 'Валерий Брюсов', 'Александр Блок',\n",
              "       'Анна Ахматова'], dtype=object)"
            ]
          },
          "execution_count": 77,
          "metadata": {},
          "output_type": "execute_result"
        }
      ],
      "source": [
        "df['poet'].unique()"
      ]
    },
    {
      "cell_type": "markdown",
      "metadata": {},
      "source": [
        "## Сбор корпуса"
      ]
    },
    {
      "cell_type": "markdown",
      "metadata": {},
      "source": [
        "Мы решили сделать базу данных на основе SQL, чтобы разделить метаданные стихотворений и необходимые для поиска токены с предложениями."
      ]
    },
    {
      "cell_type": "code",
      "execution_count": 83,
      "metadata": {
        "id": "ItPmfCTE-Af6"
      },
      "outputs": [],
      "source": [
        "import sqlite3"
      ]
    },
    {
      "cell_type": "code",
      "execution_count": 84,
      "metadata": {
        "id": "GPbhd0z--WnF"
      },
      "outputs": [],
      "source": [
        "conn = sqlite3.connect('poems_corpus.db')\n",
        "cur = conn.cursor()"
      ]
    },
    {
      "cell_type": "markdown",
      "metadata": {},
      "source": [
        "На данном этапе БД состоит из трёх таблиц:\n",
        "- info: информация о поэте и названии стихотворения\n",
        "- sentences: очищенные предложения\n",
        "- poems_to_info: промежуточная таблица, соединяющая метаданные с предложениями"
      ]
    },
    {
      "cell_type": "code",
      "execution_count": 85,
      "metadata": {
        "colab": {
          "base_uri": "https://localhost:8080/"
        },
        "id": "YASwoPba-bbQ",
        "outputId": "6e4ca930-b731-4486-a716-1b30e12fbe58"
      },
      "outputs": [
        {
          "data": {
            "text/plain": [
              "<sqlite3.Cursor at 0x7fb4a9288ab0>"
            ]
          },
          "execution_count": 85,
          "metadata": {},
          "output_type": "execute_result"
        }
      ],
      "source": [
        "cur.execute(\"\"\"\n",
        "CREATE TABLE IF NOT EXISTS info (\n",
        "    id_info INTEGER PRIMARY KEY, \n",
        "    poet TEXT,\n",
        "    title TEXT\n",
        ")\n",
        "\"\"\")\n",
        "\n",
        "cur.execute(\"\"\"\n",
        "CREATE TABLE IF NOT EXISTS sentences (\n",
        "    id_sent INTEGER PRIMARY KEY, \n",
        "    clean_sent TEXT,\n",
        "    dirty_sent TEXT\n",
        ")\n",
        "\"\"\")\n",
        "\n",
        "cur.execute(\"\"\"\n",
        "CREATE TABLE IF NOT EXISTS poems_to_info\n",
        "(id INTEGER PRIMARY KEY AUTOINCREMENT, id_info int, id_sent int) \n",
        "\"\"\")"
      ]
    },
    {
      "cell_type": "code",
      "execution_count": 86,
      "metadata": {},
      "outputs": [],
      "source": [
        "new_df = df.groupby(['title', 'poet'])[['sentence', 'clean_sentence']].agg(list).reset_index()"
      ]
    },
    {
      "cell_type": "code",
      "execution_count": 87,
      "metadata": {},
      "outputs": [
        {
          "data": {
            "text/html": [
              "<div>\n",
              "<style scoped>\n",
              "    .dataframe tbody tr th:only-of-type {\n",
              "        vertical-align: middle;\n",
              "    }\n",
              "\n",
              "    .dataframe tbody tr th {\n",
              "        vertical-align: top;\n",
              "    }\n",
              "\n",
              "    .dataframe thead th {\n",
              "        text-align: right;\n",
              "    }\n",
              "</style>\n",
              "<table border=\"1\" class=\"dataframe\">\n",
              "  <thead>\n",
              "    <tr style=\"text-align: right;\">\n",
              "      <th></th>\n",
              "      <th>title</th>\n",
              "      <th>poet</th>\n",
              "      <th>sentence</th>\n",
              "      <th>clean_sentence</th>\n",
              "    </tr>\n",
              "  </thead>\n",
              "  <tbody>\n",
              "    <tr>\n",
              "      <th>0</th>\n",
              "      <td>1 мая</td>\n",
              "      <td>Владимир Маяковский</td>\n",
              "      <td>[Довольно маяться., Маем размайся!, В улицы!, ...</td>\n",
              "      <td>[Довольно маяться, Маем размайся, В улицы, К н...</td>\n",
              "    </tr>\n",
              "    <tr>\n",
              "      <th>1</th>\n",
              "      <td>9-е января</td>\n",
              "      <td>Владимир Маяковский</td>\n",
              "      <td>[&lt;br&gt;О боге болтая,&lt;br&gt;             о смирении...</td>\n",
              "      <td>[О боге болтая о смирении говоря помни день ян...</td>\n",
              "    </tr>\n",
              "    <tr>\n",
              "      <th>2</th>\n",
              "      <td>А все-таки</td>\n",
              "      <td>Владимир Маяковский</td>\n",
              "      <td>[&lt;br&gt;Улица провалилась, как нос сифилитика., Р...</td>\n",
              "      <td>[Улица провалилась как нос сифилитика, Река сл...</td>\n",
              "    </tr>\n",
              "    <tr>\n",
              "      <th>3</th>\n",
              "      <td>А ты теперь тяжелый и унылый</td>\n",
              "      <td>Анна Ахматова</td>\n",
              "      <td>[&lt;br&gt;А ты теперь тяжелый и унылый,&lt;br&gt;Отрекший...</td>\n",
              "      <td>[А ты теперь тяжелый и унылый Отрекшийся от сл...</td>\n",
              "    </tr>\n",
              "    <tr>\n",
              "      <th>4</th>\n",
              "      <td>Александр Великий</td>\n",
              "      <td>Валерий Брюсов</td>\n",
              "      <td>[&lt;br&gt;Неустанное стремленье от судьбы к иной су...</td>\n",
              "      <td>[Неустанное стремленье от судьбы к иной судьбе...</td>\n",
              "    </tr>\n",
              "    <tr>\n",
              "      <th>...</th>\n",
              "      <td>...</td>\n",
              "      <td>...</td>\n",
              "      <td>...</td>\n",
              "      <td>...</td>\n",
              "    </tr>\n",
              "    <tr>\n",
              "      <th>258</th>\n",
              "      <td>Я и Наполеон</td>\n",
              "      <td>Владимир Маяковский</td>\n",
              "      <td>[&lt;br&gt;Я живу на Большой Пресне,&lt;br&gt;36, 24., Мес...</td>\n",
              "      <td>[Я живу на Большой Пресне, Место спокойненькое...</td>\n",
              "    </tr>\n",
              "    <tr>\n",
              "      <th>259</th>\n",
              "      <td>Я плакал безумно, ища идеал</td>\n",
              "      <td>Валерий Брюсов</td>\n",
              "      <td>[&lt;br&gt;Я плакал безумно, ища идеал,&lt;br&gt;Я струны ...</td>\n",
              "      <td>[Я плакал безумно ища идеал Я струны у лиры в ...</td>\n",
              "    </tr>\n",
              "    <tr>\n",
              "      <th>260</th>\n",
              "      <td>Я счастлив</td>\n",
              "      <td>Владимир Маяковский</td>\n",
              "      <td>[&lt;br&gt;Граждане,&lt;br&gt;у меня&lt;br&gt;огромная радость.,...</td>\n",
              "      <td>[Граждане у меня огромная радость, Разулыбьте ...</td>\n",
              "    </tr>\n",
              "    <tr>\n",
              "      <th>261</th>\n",
              "      <td>Я тебя отвоюю у всех земель</td>\n",
              "      <td>Марина Цветаева</td>\n",
              "      <td>[&lt;br&gt;Я тебя отвоюю у всех земель, у всех небес...</td>\n",
              "      <td>[Я тебя отвоюю у всех земель у всех небес Отто...</td>\n",
              "    </tr>\n",
              "    <tr>\n",
              "      <th>262</th>\n",
              "      <td>Я целую синими губами</td>\n",
              "      <td>Сергей Есенин</td>\n",
              "      <td>[&lt;br&gt;День ушел, убавилась черта,&lt;br&gt;Я опять по...</td>\n",
              "      <td>[День ушел убавилась черта Я опять подвинулся ...</td>\n",
              "    </tr>\n",
              "  </tbody>\n",
              "</table>\n",
              "<p>263 rows × 4 columns</p>\n",
              "</div>"
            ],
            "text/plain": [
              "                            title                 poet  \\\n",
              "0                           1 мая  Владимир Маяковский   \n",
              "1                      9-е января  Владимир Маяковский   \n",
              "2                      А все-таки  Владимир Маяковский   \n",
              "3    А ты теперь тяжелый и унылый        Анна Ахматова   \n",
              "4               Александр Великий       Валерий Брюсов   \n",
              "..                            ...                  ...   \n",
              "258                  Я и Наполеон  Владимир Маяковский   \n",
              "259   Я плакал безумно, ища идеал       Валерий Брюсов   \n",
              "260                    Я счастлив  Владимир Маяковский   \n",
              "261   Я тебя отвоюю у всех земель      Марина Цветаева   \n",
              "262         Я целую синими губами        Сергей Есенин   \n",
              "\n",
              "                                              sentence  \\\n",
              "0    [Довольно маяться., Маем размайся!, В улицы!, ...   \n",
              "1    [<br>О боге болтая,<br>             о смирении...   \n",
              "2    [<br>Улица провалилась, как нос сифилитика., Р...   \n",
              "3    [<br>А ты теперь тяжелый и унылый,<br>Отрекший...   \n",
              "4    [<br>Неустанное стремленье от судьбы к иной су...   \n",
              "..                                                 ...   \n",
              "258  [<br>Я живу на Большой Пресне,<br>36, 24., Мес...   \n",
              "259  [<br>Я плакал безумно, ища идеал,<br>Я струны ...   \n",
              "260  [<br>Граждане,<br>у меня<br>огромная радость.,...   \n",
              "261  [<br>Я тебя отвоюю у всех земель, у всех небес...   \n",
              "262  [<br>День ушел, убавилась черта,<br>Я опять по...   \n",
              "\n",
              "                                        clean_sentence  \n",
              "0    [Довольно маяться, Маем размайся, В улицы, К н...  \n",
              "1    [О боге болтая о смирении говоря помни день ян...  \n",
              "2    [Улица провалилась как нос сифилитика, Река сл...  \n",
              "3    [А ты теперь тяжелый и унылый Отрекшийся от сл...  \n",
              "4    [Неустанное стремленье от судьбы к иной судьбе...  \n",
              "..                                                 ...  \n",
              "258  [Я живу на Большой Пресне, Место спокойненькое...  \n",
              "259  [Я плакал безумно ища идеал Я струны у лиры в ...  \n",
              "260  [Граждане у меня огромная радость, Разулыбьте ...  \n",
              "261  [Я тебя отвоюю у всех земель у всех небес Отто...  \n",
              "262  [День ушел убавилась черта Я опять подвинулся ...  \n",
              "\n",
              "[263 rows x 4 columns]"
            ]
          },
          "execution_count": 87,
          "metadata": {},
          "output_type": "execute_result"
        }
      ],
      "source": [
        "new_df"
      ]
    },
    {
      "cell_type": "code",
      "execution_count": 88,
      "metadata": {},
      "outputs": [],
      "source": [
        "cur.execute('SELECT id_info, poet, title FROM info')\n",
        "db_info = {}\n",
        "max_id = 0\n",
        "for idx, poet, title in cur.fetchall():\n",
        "    max_id += 1\n",
        "    if poet in db_info:\n",
        "        db_info[poet].append(title)\n",
        "    else:\n",
        "        db_info[poet] = [title]\n",
        "\n",
        "cur.execute('SELECT COUNT(id_sent) FROM sentences')\n",
        "poem_cnt = cur.fetchone()[0] + 1\n",
        "for index, row in new_df.iterrows():\n",
        "    poet = row['poet']\n",
        "    title = row['title']\n",
        "    sentences = row['sentence']\n",
        "    clean_sentences = row['clean_sentence']\n",
        "    if poet not in db_info:\n",
        "        db_info[poet] = []\n",
        "    \n",
        "    if title not in db_info[poet]:\n",
        "        db_info[poet].append(title)\n",
        "        max_id += 1\n",
        "        cur.execute('INSERT INTO info VALUES (?, ?, ?)', (max_id, poet, title))\n",
        "        conn.commit()\n",
        "        for poem_sent, dirty_sent in zip(clean_sentences, sentences):\n",
        "            cur.execute('INSERT INTO sentences VALUES (?, ?, ?)', (poem_cnt, poem_sent, dirty_sent))\n",
        "            cur.execute('INSERT INTO poems_to_info (id_info, id_sent) VALUES (?, ?)', (max_id, poem_cnt))\n",
        "            poem_cnt += 1\n",
        "            conn.commit()"
      ]
    },
    {
      "cell_type": "code",
      "execution_count": 89,
      "metadata": {},
      "outputs": [
        {
          "name": "stdout",
          "output_type": "stream",
          "text": [
            "8415\n"
          ]
        }
      ],
      "source": [
        "cur.execute('SELECT COUNT(id_sent) FROM sentences')\n",
        "print(cur.fetchone()[0])"
      ]
    },
    {
      "cell_type": "code",
      "execution_count": null,
      "metadata": {},
      "outputs": [],
      "source": []
    }
  ],
  "metadata": {
    "colab": {
      "provenance": []
    },
    "kernelspec": {
      "display_name": "Python 3.9.6 64-bit",
      "language": "python",
      "name": "python3"
    },
    "language_info": {
      "codemirror_mode": {
        "name": "ipython",
        "version": 3
      },
      "file_extension": ".py",
      "mimetype": "text/x-python",
      "name": "python",
      "nbconvert_exporter": "python",
      "pygments_lexer": "ipython3",
      "version": "3.9.6"
    },
    "vscode": {
      "interpreter": {
        "hash": "7812ea015bdcee6f23a998adcdd2ef97c151c0c241b7b7070987d9313e41299d"
      }
    }
  },
  "nbformat": 4,
  "nbformat_minor": 0
}
