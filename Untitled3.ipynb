{
  "nbformat": 4,
  "nbformat_minor": 0,
  "metadata": {
    "colab": {
      "provenance": []
    },
    "kernelspec": {
      "name": "python3",
      "display_name": "Python 3"
    },
    "language_info": {
      "name": "python"
    }
  },
  "cells": [
    {
      "cell_type": "code",
      "execution_count": 150,
      "metadata": {
        "id": "-XOKHsVGpz3x"
      },
      "outputs": [],
      "source": [
        "import requests\n",
        "import pandas as pd\n",
        "from nltk.tokenize import sent_tokenize, word_tokenize\n",
        "from bs4 import BeautifulSoup"
      ]
    },
    {
      "cell_type": "code",
      "source": [
        "import nltk\n",
        "nltk.download('punkt')"
      ],
      "metadata": {
        "id": "xOKIau2G8GRK"
      },
      "execution_count": null,
      "outputs": []
    },
    {
      "cell_type": "code",
      "source": [
        "session = requests.session()\n",
        "poets, titles, poems = [], [], []"
      ],
      "metadata": {
        "id": "Gn7Mb1FUp5k1"
      },
      "execution_count": 111,
      "outputs": []
    },
    {
      "cell_type": "code",
      "source": [
        "def get_poem(poem_url):\n",
        "  poem_req = session.get(poem_url)\n",
        "  poem_page = poem_req.text\n",
        "  poem_soup = BeautifulSoup(poem_page)\n",
        "  poem = poem_soup.find('div', {'class': 'entry-content poem-text'}).text.split('(adsbygoogle')[0]\n",
        "  if len(poem.split()) >= 110:\n",
        "    return poem\n",
        "  return False"
      ],
      "metadata": {
        "id": "yASyGPyOvpra"
      },
      "execution_count": 112,
      "outputs": []
    },
    {
      "cell_type": "code",
      "source": [
        "def get_poet(poet_url):\n",
        "  poet_req = session.get(poet_url)\n",
        "  poet_page = poet_req.text\n",
        "  poet_soup = BeautifulSoup(poet_page)\n",
        "  all_poems = poet_soup.find_all('div', {'class': 'entry-title'})\n",
        "  global poets\n",
        "  global titles\n",
        "  global poems\n",
        "  for poem_url in all_poems:\n",
        "    poem = get_poem(poem_url.find('a', href=True)['href'])\n",
        "    if poem != False:\n",
        "      try:\n",
        "        poet, title = poem_url.text.strip().split(' — ')\n",
        "        poets.append(poet)\n",
        "        titles.append(title)\n",
        "        poems.append(poem)\n",
        "      except:\n",
        "        print(poem_url.text.strip().split(' '))\n",
        "  return poets, titles, poems"
      ],
      "metadata": {
        "id": "uddNlwfSwPVi"
      },
      "execution_count": 113,
      "outputs": []
    },
    {
      "cell_type": "code",
      "source": [
        "def get_data(url):\n",
        "  req = session.get(url)\n",
        "  page = req.text\n",
        "  soup = BeautifulSoup(page)\n",
        "  article = soup.find('article')\n",
        "  links = article.find_all('li')\n",
        "  for link in links[:5]:\n",
        "    get_poet(link.find('a', href=True)['href'])"
      ],
      "metadata": {
        "id": "Qg7WC_XjxIia"
      },
      "execution_count": 114,
      "outputs": []
    },
    {
      "cell_type": "code",
      "source": [
        "get_data('https://rustih.ru/stixi-sovetskix-poetov/')"
      ],
      "metadata": {
        "colab": {
          "base_uri": "https://localhost:8080/"
        },
        "id": "ihd4sWFRyYGm",
        "outputId": "d2f38e4f-0a06-4cfa-b75a-8c2f706615a4"
      },
      "execution_count": 115,
      "outputs": [
        {
          "output_type": "stream",
          "name": "stdout",
          "text": [
            "['Марина', 'Цветаева', '—', 'Асе', '(Ты', '—', 'принцесса', 'из', 'царства', 'не', 'светского)']\n",
            "['Сергей', 'Есенин', '—', 'Да!', 'Теперь', '—', 'решено.', 'Без', 'возврата']\n"
          ]
        }
      ]
    },
    {
      "cell_type": "code",
      "source": [
        "len_poems = []\n",
        "for poem in poems:\n",
        "  len_poems.append(len(poem.split()))"
      ],
      "metadata": {
        "id": "NLrvEHjK4w1o"
      },
      "execution_count": 117,
      "outputs": []
    },
    {
      "cell_type": "code",
      "source": [
        "df = pd.DataFrame(columns=['poet', 'title', 'sentence'])"
      ],
      "metadata": {
        "id": "URjesuGk7wFk"
      },
      "execution_count": 144,
      "outputs": []
    },
    {
      "cell_type": "code",
      "source": [
        "sent_tokenize(poems[28])"
      ],
      "metadata": {
        "id": "ppc-I0ce8Cel"
      },
      "execution_count": null,
      "outputs": []
    },
    {
      "cell_type": "code",
      "source": [
        "def parse_poem(poem):\n",
        "  sentences = sent_tokenize(poem)\n",
        "  clean_sentences = []\n",
        "  for sent in sentences:\n",
        "    clean_sent = [word.strip() for word in word_tokenize(sent) if word.strip().isalpha()]\n",
        "    clean_sentences.append(' '.join(clean_sent))\n",
        "  return clean_sentences"
      ],
      "metadata": {
        "id": "T-22TP1z74au"
      },
      "execution_count": 152,
      "outputs": []
    },
    {
      "cell_type": "code",
      "source": [
        "for i, poet in enumerate(poets):\n",
        "  poem = poems[i]\n",
        "  clean_poem = parse_poem(poem)\n",
        "  for sent in clean_poem:\n",
        "    df = df.append({'poet': poet, 'title': titles[i], 'sentence': sent}, ignore_index=True)"
      ],
      "metadata": {
        "id": "mAD1Xc-T7TZ8"
      },
      "execution_count": 155,
      "outputs": []
    },
    {
      "cell_type": "code",
      "source": [
        "df.head()"
      ],
      "metadata": {
        "colab": {
          "base_uri": "https://localhost:8080/",
          "height": 214
        },
        "id": "spEPmduR-BZB",
        "outputId": "2ccb7c7d-23c7-4057-fad8-bc2738579f34"
      },
      "execution_count": 156,
      "outputs": [
        {
          "output_type": "execute_result",
          "data": {
            "text/plain": [
              "         poet        title                                           sentence\n",
              "0  Иван Бунин  Одиночество  И ветер и дождик и мгла Над холодной пустыней ...\n",
              "1  Иван Бунин  Одиночество  Здесь жизнь до весны умерла До весны опустели ...\n",
              "2  Иван Бунин  Одиночество                                     Я на даче один\n",
              "3  Иван Бунин  Одиночество              Мне темно За мольбертом и дует в окно\n",
              "4  Иван Бунин  Одиночество   Вчера ты была у меня Но тебе уж тоскливо со мной"
            ],
            "text/html": [
              "\n",
              "  <div id=\"df-36c512cf-1b2a-4d8b-a420-9c652750bd56\">\n",
              "    <div class=\"colab-df-container\">\n",
              "      <div>\n",
              "<style scoped>\n",
              "    .dataframe tbody tr th:only-of-type {\n",
              "        vertical-align: middle;\n",
              "    }\n",
              "\n",
              "    .dataframe tbody tr th {\n",
              "        vertical-align: top;\n",
              "    }\n",
              "\n",
              "    .dataframe thead th {\n",
              "        text-align: right;\n",
              "    }\n",
              "</style>\n",
              "<table border=\"1\" class=\"dataframe\">\n",
              "  <thead>\n",
              "    <tr style=\"text-align: right;\">\n",
              "      <th></th>\n",
              "      <th>poet</th>\n",
              "      <th>title</th>\n",
              "      <th>sentence</th>\n",
              "    </tr>\n",
              "  </thead>\n",
              "  <tbody>\n",
              "    <tr>\n",
              "      <th>0</th>\n",
              "      <td>Иван Бунин</td>\n",
              "      <td>Одиночество</td>\n",
              "      <td>И ветер и дождик и мгла Над холодной пустыней ...</td>\n",
              "    </tr>\n",
              "    <tr>\n",
              "      <th>1</th>\n",
              "      <td>Иван Бунин</td>\n",
              "      <td>Одиночество</td>\n",
              "      <td>Здесь жизнь до весны умерла До весны опустели ...</td>\n",
              "    </tr>\n",
              "    <tr>\n",
              "      <th>2</th>\n",
              "      <td>Иван Бунин</td>\n",
              "      <td>Одиночество</td>\n",
              "      <td>Я на даче один</td>\n",
              "    </tr>\n",
              "    <tr>\n",
              "      <th>3</th>\n",
              "      <td>Иван Бунин</td>\n",
              "      <td>Одиночество</td>\n",
              "      <td>Мне темно За мольбертом и дует в окно</td>\n",
              "    </tr>\n",
              "    <tr>\n",
              "      <th>4</th>\n",
              "      <td>Иван Бунин</td>\n",
              "      <td>Одиночество</td>\n",
              "      <td>Вчера ты была у меня Но тебе уж тоскливо со мной</td>\n",
              "    </tr>\n",
              "  </tbody>\n",
              "</table>\n",
              "</div>\n",
              "      <button class=\"colab-df-convert\" onclick=\"convertToInteractive('df-36c512cf-1b2a-4d8b-a420-9c652750bd56')\"\n",
              "              title=\"Convert this dataframe to an interactive table.\"\n",
              "              style=\"display:none;\">\n",
              "        \n",
              "  <svg xmlns=\"http://www.w3.org/2000/svg\" height=\"24px\"viewBox=\"0 0 24 24\"\n",
              "       width=\"24px\">\n",
              "    <path d=\"M0 0h24v24H0V0z\" fill=\"none\"/>\n",
              "    <path d=\"M18.56 5.44l.94 2.06.94-2.06 2.06-.94-2.06-.94-.94-2.06-.94 2.06-2.06.94zm-11 1L8.5 8.5l.94-2.06 2.06-.94-2.06-.94L8.5 2.5l-.94 2.06-2.06.94zm10 10l.94 2.06.94-2.06 2.06-.94-2.06-.94-.94-2.06-.94 2.06-2.06.94z\"/><path d=\"M17.41 7.96l-1.37-1.37c-.4-.4-.92-.59-1.43-.59-.52 0-1.04.2-1.43.59L10.3 9.45l-7.72 7.72c-.78.78-.78 2.05 0 2.83L4 21.41c.39.39.9.59 1.41.59.51 0 1.02-.2 1.41-.59l7.78-7.78 2.81-2.81c.8-.78.8-2.07 0-2.86zM5.41 20L4 18.59l7.72-7.72 1.47 1.35L5.41 20z\"/>\n",
              "  </svg>\n",
              "      </button>\n",
              "      \n",
              "  <style>\n",
              "    .colab-df-container {\n",
              "      display:flex;\n",
              "      flex-wrap:wrap;\n",
              "      gap: 12px;\n",
              "    }\n",
              "\n",
              "    .colab-df-convert {\n",
              "      background-color: #E8F0FE;\n",
              "      border: none;\n",
              "      border-radius: 50%;\n",
              "      cursor: pointer;\n",
              "      display: none;\n",
              "      fill: #1967D2;\n",
              "      height: 32px;\n",
              "      padding: 0 0 0 0;\n",
              "      width: 32px;\n",
              "    }\n",
              "\n",
              "    .colab-df-convert:hover {\n",
              "      background-color: #E2EBFA;\n",
              "      box-shadow: 0px 1px 2px rgba(60, 64, 67, 0.3), 0px 1px 3px 1px rgba(60, 64, 67, 0.15);\n",
              "      fill: #174EA6;\n",
              "    }\n",
              "\n",
              "    [theme=dark] .colab-df-convert {\n",
              "      background-color: #3B4455;\n",
              "      fill: #D2E3FC;\n",
              "    }\n",
              "\n",
              "    [theme=dark] .colab-df-convert:hover {\n",
              "      background-color: #434B5C;\n",
              "      box-shadow: 0px 1px 3px 1px rgba(0, 0, 0, 0.15);\n",
              "      filter: drop-shadow(0px 1px 2px rgba(0, 0, 0, 0.3));\n",
              "      fill: #FFFFFF;\n",
              "    }\n",
              "  </style>\n",
              "\n",
              "      <script>\n",
              "        const buttonEl =\n",
              "          document.querySelector('#df-36c512cf-1b2a-4d8b-a420-9c652750bd56 button.colab-df-convert');\n",
              "        buttonEl.style.display =\n",
              "          google.colab.kernel.accessAllowed ? 'block' : 'none';\n",
              "\n",
              "        async function convertToInteractive(key) {\n",
              "          const element = document.querySelector('#df-36c512cf-1b2a-4d8b-a420-9c652750bd56');\n",
              "          const dataTable =\n",
              "            await google.colab.kernel.invokeFunction('convertToInteractive',\n",
              "                                                     [key], {});\n",
              "          if (!dataTable) return;\n",
              "\n",
              "          const docLinkHtml = 'Like what you see? Visit the ' +\n",
              "            '<a target=\"_blank\" href=https://colab.research.google.com/notebooks/data_table.ipynb>data table notebook</a>'\n",
              "            + ' to learn more about interactive tables.';\n",
              "          element.innerHTML = '';\n",
              "          dataTable['output_type'] = 'display_data';\n",
              "          await google.colab.output.renderOutput(dataTable, element);\n",
              "          const docLink = document.createElement('div');\n",
              "          docLink.innerHTML = docLinkHtml;\n",
              "          element.appendChild(docLink);\n",
              "        }\n",
              "      </script>\n",
              "    </div>\n",
              "  </div>\n",
              "  "
            ]
          },
          "metadata": {},
          "execution_count": 156
        }
      ]
    },
    {
      "cell_type": "code",
      "source": [
        "import sqlite3"
      ],
      "metadata": {
        "id": "ItPmfCTE-Af6"
      },
      "execution_count": 157,
      "outputs": []
    },
    {
      "cell_type": "code",
      "source": [
        "conn = sqlite3.connect('poems_corpus.db')\n",
        "cur = conn.cursor()"
      ],
      "metadata": {
        "id": "GPbhd0z--WnF"
      },
      "execution_count": 175,
      "outputs": []
    },
    {
      "cell_type": "code",
      "source": [
        "cur.execute(\"\"\"\n",
        "CREATE TABLE IF NOT EXISTS poets (\n",
        "    poet_id INTEGER PRIMARY KEY, \n",
        "    poet TEXT\n",
        ")\n",
        "\"\"\")\n",
        "\n",
        "cur.execute(\"\"\"\n",
        "CREATE TABLE IF NOT EXISTS titles (\n",
        "    title_id INTEGER PRIMARY KEY, \n",
        "    title TEXT\n",
        ")\n",
        "\"\"\")\n",
        "\n",
        "cur.execute(\"\"\"\n",
        "CREATE TABLE IF NOT EXISTS sentences (\n",
        "    sent_id INTEGER PRIMARY KEY, \n",
        "    sent TEXT\n",
        ")\n",
        "\"\"\")\n",
        "\n",
        "cur.execute(\"\"\"\n",
        "CREATE TABLE IF NOT EXISTS poets_to_titles\n",
        "(id INTEGER PRIMARY KEY AUTOINCREMENT, id_poet int, id_title int) \n",
        "\"\"\")\n",
        "\n",
        "cur.execute(\"\"\"\n",
        "CREATE TABLE IF NOT EXISTS poems_to_titles\n",
        "(id INTEGER PRIMARY KEY AUTOINCREMENT, id_poem int, id_title int) \n",
        "\"\"\")"
      ],
      "metadata": {
        "colab": {
          "base_uri": "https://localhost:8080/"
        },
        "id": "YASwoPba-bbQ",
        "outputId": "6e4ca930-b731-4486-a716-1b30e12fbe58"
      },
      "execution_count": 176,
      "outputs": [
        {
          "output_type": "execute_result",
          "data": {
            "text/plain": [
              "<sqlite3.Cursor at 0x7fd750550f80>"
            ]
          },
          "metadata": {},
          "execution_count": 176
        }
      ]
    },
    {
      "cell_type": "code",
      "source": [
        "cur.execute('SELECT poet_id, poet FROM poets')\n",
        "db_poets = {}\n",
        "for idx, name in cur.fetchall():\n",
        "    db_poets[name] = idx\n",
        "\n",
        "cur.execute('SELECT title_id, title FROM titles')\n",
        "db_titles = {}\n",
        "for name, idx in cur.fetchall():\n",
        "    db_titles[name] = idx\n",
        " \n",
        "been_titles = []\n",
        "poem_cnt = 1\n",
        "for index, row in df.iterrows():\n",
        "  poet = row['poet']\n",
        "  if poet not in db_poets:\n",
        "    if db_poets.values():\n",
        "      db_poets[poet] = max(db_poets.values()) + 1 \n",
        "    else:\n",
        "      db_poets[poet] = 1\n",
        "    cur.execute('INSERT INTO poets VALUES (?, ?)', (db_poets[poet], poet))\n",
        "    conn.commit()\n",
        "  \n",
        "  title = row['title']\n",
        "  if title not in db_titles:\n",
        "    if db_titles.values():\n",
        "      db_titles[title] = max(db_titles.values()) + 1 \n",
        "    else:\n",
        "      db_titles[title] = 1\n",
        "    cur.execute('INSERT INTO titles VALUES (?, ?)', (db_titles[title], title))\n",
        "    conn.commit()\n",
        "\n",
        "  if title not in been_titles:\n",
        "    cur.execute('INSERT INTO poets_to_titles (id_poet, id_title) VALUES (?, ?)', (db_poets[poet], db_titles[title]))\n",
        "    been_titles.append(title)\n",
        "  \n",
        "  poem_sent = row['sentence']\n",
        "  cur.execute('INSERT INTO sentences VALUES (?, ?)', (poem_cnt, poem_sent))\n",
        "  poem_cnt += 1\n",
        "  \n",
        "  cur.execute('INSERT INTO poems_to_titles (id_poem, id_title) VALUES (?, ?)', (poem_cnt, db_titles[title]))"
      ],
      "metadata": {
        "id": "TMihyuFBIfNp"
      },
      "execution_count": 177,
      "outputs": []
    },
    {
      "cell_type": "code",
      "source": [],
      "metadata": {
        "id": "sRIexDtRMY8z"
      },
      "execution_count": null,
      "outputs": []
    }
  ]
}